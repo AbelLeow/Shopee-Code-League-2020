{
 "cells": [
  {
   "cell_type": "code",
   "execution_count": 69,
   "metadata": {},
   "outputs": [],
   "source": [
    "import pandas as pd\n",
    "import numpy as np\n",
    "import time\n",
    "\n",
    "hols = ['2020-03-08',\n",
    "'2020-03-25',\n",
    "'2020-03-30',\n",
    "'2020-03-31']"
   ]
  },
  {
   "cell_type": "code",
   "execution_count": 26,
   "metadata": {},
   "outputs": [],
   "source": [
    "orders = pd.read_csv(\"delivery_orders_march.csv\")"
   ]
  },
  {
   "cell_type": "code",
   "execution_count": 25,
   "metadata": {},
   "outputs": [],
   "source": [
    "def rename(s):\n",
    "    l = [\"Metro Manila\", \"Luzon\", \"Visayas\", \"Mindanao\"]\n",
    "    for name in l:\n",
    "        if name.lower() in s.lower():\n",
    "            return name\n",
    "        "
   ]
  },
  {
   "cell_type": "code",
   "execution_count": 27,
   "metadata": {},
   "outputs": [],
   "source": [
    "orders['buyeraddress'] = orders['buyeraddress'].map(rename) \n",
    "orders['selleraddress'] = orders['selleraddress'].map(rename)"
   ]
  },
  {
   "cell_type": "code",
   "execution_count": 54,
   "metadata": {},
   "outputs": [],
   "source": [
    "orders['pick'] = orders['pick'].map(lambda a:time.strftime('%Y-%m-%d', time.localtime(a)))\n",
    "orders['1st_deliver_attempt'] = orders['1st_deliver_attempt'].map(lambda a:time.strftime('%Y-%m-%d', time.localtime(a)))\n",
    "orders['2nd_deliver_attempt'] = orders['2nd_deliver_attempt'].map(lambda a:time.strftime('%Y-%m-%d', time.localtime(a)) if pd.notnull(a) else 0)"
   ]
  },
  {
   "cell_type": "code",
   "execution_count": 61,
   "metadata": {},
   "outputs": [],
   "source": [
    "sla1_conditions = [\n",
    "    orders['buyeraddress'].isin([\"Visayas\", \"Mindanao\"])| orders['selleraddress'].isin([\"Visayas\", \"Mindanao\"]),\n",
    "    (orders['buyeraddress']==\"Metro Manila\") & (orders['selleraddress']==\"Metro Manila\")\n",
    "]\n",
    "sla1_choices = [7,3]\n",
    "orders['sla1'] = np.select(sla1_conditions, sla1_choices, default=5)"
   ]
  },
  {
   "cell_type": "code",
   "execution_count": 72,
   "metadata": {},
   "outputs": [],
   "source": [
    "orders['attempt1']=np.busday_count(orders['pick'],orders['1st_deliver_attempt'],holidays = hols, weekmask='1111110')"
   ]
  },
  {
   "cell_type": "code",
   "execution_count": 74,
   "metadata": {},
   "outputs": [],
   "source": [
    "orders['attempt2']=np.busday_count(orders['1st_deliver_attempt'],orders['2nd_deliver_attempt'],holidays = hols, weekmask='1111110')"
   ]
  },
  {
   "cell_type": "code",
   "execution_count": 91,
   "metadata": {},
   "outputs": [],
   "source": [
    "orders['is_late'] = (orders['sla1'] - orders['attempt1'] < 0) | (orders['attempt2']>3)"
   ]
  },
  {
   "cell_type": "code",
   "execution_count": 92,
   "metadata": {},
   "outputs": [],
   "source": [
    "ans = orders[['orderid','is_late']]"
   ]
  },
  {
   "cell_type": "code",
   "execution_count": 94,
   "metadata": {},
   "outputs": [],
   "source": [
    "ans.to_csv('ans.csv',index = False)"
   ]
  },
  {
   "cell_type": "code",
   "execution_count": 93,
   "metadata": {},
   "outputs": [
    {
     "data": {
      "text/plain": [
       "False    2413786\n",
       "True      762527\n",
       "Name: is_late, dtype: int64"
      ]
     },
     "execution_count": 93,
     "metadata": {},
     "output_type": "execute_result"
    }
   ],
   "source": [
    "ans.is_late.value_counts()"
   ]
  }
 ],
 "metadata": {
  "kernelspec": {
   "display_name": "Python 3",
   "language": "python",
   "name": "python3"
  },
  "language_info": {
   "codemirror_mode": {
    "name": "ipython",
    "version": 3
   },
   "file_extension": ".py",
   "mimetype": "text/x-python",
   "name": "python",
   "nbconvert_exporter": "python",
   "pygments_lexer": "ipython3",
   "version": "3.7.6"
  }
 },
 "nbformat": 4,
 "nbformat_minor": 4
}
