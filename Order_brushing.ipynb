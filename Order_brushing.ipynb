{
 "cells": [
  {
   "cell_type": "code",
   "execution_count": 1,
   "metadata": {},
   "outputs": [],
   "source": [
    "import pandas as pd\n",
    "\n",
    "def timeDifference(t1, t2):\n",
    "  t1=pd.to_datetime(t1)\n",
    "  t2=pd.to_datetime(t2)\n",
    "  timeDif=abs(pd.Timedelta(t2-t1).seconds /3600 )\n",
    "  return (timeDif<=1)\n",
    "\n",
    "\n"
   ]
  },
  {
   "cell_type": "code",
   "execution_count": 8,
   "metadata": {},
   "outputs": [],
   "source": [
    "data = pd.read_csv('order_brush_order.csv',parse_dates=['event_time'])\n",
    "\n",
    "data = data.sort_values(by=['shopid','event_time','userid'])\n",
    "\n",
    "final_dict={}\n",
    "\n",
    "totalRows=data.shape[0]\n",
    "for i in range(totalRows):\n",
    "    userid1=data.userid.iloc[i]\n",
    "    shopid1=data.shopid.iloc[i]\n",
    "    time1=data.event_time.iloc[i]\n",
    "    \n",
    "    orders=1\n",
    "    unique_ids={userid1:1}\n",
    "    if (shopid1 not in final_dict):\n",
    "        final_dict.update({shopid1:[]})\n",
    "    \n",
    "    for j in range(i+1,totalRows):\n",
    "        userid2=data.userid.iloc[j]\n",
    "        shopid2=data.shopid.iloc[j]\n",
    "        time2=data.event_time.iloc[j]\n",
    "        isOneHour=timeDifference(time1,time2)\n",
    "        \n",
    "        if (shopid1!=shopid2 or not isOneHour):\n",
    "            break\n",
    "        \n",
    "        orders+=1\n",
    "        if userid2 not in unique_ids:\n",
    "            unique_ids.update({userid2:1})\n",
    "        else:\n",
    "            unique_ids[userid2]+=1\n",
    "    \n",
    "    \n",
    "    uniqueVisits=len(unique_ids)\n",
    "    concentration=orders/uniqueVisits\n",
    "    \n",
    "    if (concentration>=3):\n",
    "        sus_ids=[]\n",
    "        unique_id_list=list(unique_ids.items())\n",
    "        unique_id_list.sort(key=lambda x:x[1], reverse=True)\n",
    "        highest_visit=unique_id_list[0][1]\n",
    "        \n",
    "        for visitors in unique_id_list:\n",
    "            if visitors[1]==highest_visit:\n",
    "                final_dict[shopid1].append(visitors[0])\n",
    "            else:\n",
    "                break\n",
    "\n",
    "        \n",
    "\n",
    "        "
   ]
  },
  {
   "cell_type": "code",
   "execution_count": 9,
   "metadata": {},
   "outputs": [],
   "source": [
    "final_list=[]\n",
    "\n",
    "for k,v in final_dict.items():\n",
    "  if len(v)==0:\n",
    "    sus='0'\n",
    "  else:\n",
    "    sus=''\n",
    "    v.sort()\n",
    "    for i in v:\n",
    "      id=str(i)+\"&\"\n",
    "      sus+=id\n",
    "    sus=sus[:len(sus)-1]\n",
    "  helper_list=[k,sus]\n",
    "  final_list.append(helper_list)\n"
   ]
  },
  {
   "cell_type": "code",
   "execution_count": 10,
   "metadata": {},
   "outputs": [],
   "source": [
    "shopids = []\n",
    "userids = []\n",
    "for shop in final_list:\n",
    "  shopids.append(shop[0])\n",
    "  userids.append(shop[1])\n",
    "\n"
   ]
  },
  {
   "cell_type": "code",
   "execution_count": 11,
   "metadata": {},
   "outputs": [],
   "source": [
    "output = pd.DataFrame({'shopid':shopids,'userid':userids})"
   ]
  },
  {
   "cell_type": "code",
   "execution_count": 6,
   "metadata": {},
   "outputs": [
    {
     "data": {
      "text/html": [
       "<div>\n",
       "<style scoped>\n",
       "    .dataframe tbody tr th:only-of-type {\n",
       "        vertical-align: middle;\n",
       "    }\n",
       "\n",
       "    .dataframe tbody tr th {\n",
       "        vertical-align: top;\n",
       "    }\n",
       "\n",
       "    .dataframe thead th {\n",
       "        text-align: right;\n",
       "    }\n",
       "</style>\n",
       "<table border=\"1\" class=\"dataframe\">\n",
       "  <thead>\n",
       "    <tr style=\"text-align: right;\">\n",
       "      <th></th>\n",
       "      <th>shopid</th>\n",
       "      <th>userid</th>\n",
       "    </tr>\n",
       "  </thead>\n",
       "  <tbody>\n",
       "    <tr>\n",
       "      <th>0</th>\n",
       "      <td>10009</td>\n",
       "      <td>0</td>\n",
       "    </tr>\n",
       "    <tr>\n",
       "      <th>1</th>\n",
       "      <td>10051</td>\n",
       "      <td>0</td>\n",
       "    </tr>\n",
       "    <tr>\n",
       "      <th>2</th>\n",
       "      <td>10061</td>\n",
       "      <td>0</td>\n",
       "    </tr>\n",
       "    <tr>\n",
       "      <th>3</th>\n",
       "      <td>10084</td>\n",
       "      <td>0</td>\n",
       "    </tr>\n",
       "    <tr>\n",
       "      <th>4</th>\n",
       "      <td>10100</td>\n",
       "      <td>0</td>\n",
       "    </tr>\n",
       "  </tbody>\n",
       "</table>\n",
       "</div>"
      ],
      "text/plain": [
       "   shopid userid\n",
       "0   10009      0\n",
       "1   10051      0\n",
       "2   10061      0\n",
       "3   10084      0\n",
       "4   10100      0"
      ]
     },
     "execution_count": 6,
     "metadata": {},
     "output_type": "execute_result"
    }
   ],
   "source": [
    "output.head()"
   ]
  },
  {
   "cell_type": "code",
   "execution_count": 12,
   "metadata": {},
   "outputs": [],
   "source": [
    "output.to_csv('test.csv')"
   ]
  },
  {
   "cell_type": "code",
   "execution_count": null,
   "metadata": {},
   "outputs": [],
   "source": []
  }
 ],
 "metadata": {
  "kernelspec": {
   "display_name": "Python 3",
   "language": "python",
   "name": "python3"
  },
  "language_info": {
   "codemirror_mode": {
    "name": "ipython",
    "version": 3
   },
   "file_extension": ".py",
   "mimetype": "text/x-python",
   "name": "python",
   "nbconvert_exporter": "python",
   "pygments_lexer": "ipython3",
   "version": "3.7.3"
  }
 },
 "nbformat": 4,
 "nbformat_minor": 2
}
